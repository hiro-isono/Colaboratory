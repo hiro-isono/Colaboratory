{
  "nbformat": 4,
  "nbformat_minor": 0,
  "metadata": {
    "colab": {
      "name": "20210728work1.ipynb",
      "provenance": [],
      "authorship_tag": "ABX9TyOVf9UBmi2AhX0ut5q4Mvx6",
      "include_colab_link": true
    },
    "kernelspec": {
      "name": "python3",
      "display_name": "Python 3"
    },
    "language_info": {
      "name": "python"
    }
  },
  "cells": [
    {
      "cell_type": "markdown",
      "metadata": {
        "id": "view-in-github",
        "colab_type": "text"
      },
      "source": [
        "<a href=\"https://colab.research.google.com/github/hiro-isono/Colaboratory/blob/main/20210728work1.ipynb\" target=\"_parent\"><img src=\"https://colab.research.google.com/assets/colab-badge.svg\" alt=\"Open In Colab\"/></a>"
      ]
    },
    {
      "cell_type": "code",
      "metadata": {
        "id": "rgWYAOzz7FEg",
        "colab": {
          "base_uri": "https://localhost:8080/"
        },
        "outputId": "897f6a06-6ff0-494a-bac6-0769395cd0b1"
      },
      "source": [
        "test = 100\n",
        "test"
      ],
      "execution_count": null,
      "outputs": [
        {
          "output_type": "execute_result",
          "data": {
            "text/plain": [
              "100"
            ]
          },
          "metadata": {
            "tags": []
          },
          "execution_count": 3
        }
      ]
    },
    {
      "cell_type": "code",
      "metadata": {
        "id": "Cj6N503o4xMr",
        "colab": {
          "base_uri": "https://localhost:8080/"
        },
        "outputId": "d80ab737-5d91-4c04-8bb2-94922334788d"
      },
      "source": [
        "test += 1000\n",
        "test"
      ],
      "execution_count": null,
      "outputs": [
        {
          "output_type": "execute_result",
          "data": {
            "text/plain": [
              "1100"
            ]
          },
          "metadata": {
            "tags": []
          },
          "execution_count": 4
        }
      ]
    },
    {
      "cell_type": "code",
      "metadata": {
        "id": "a4froMZ95K3X",
        "outputId": "ffbe60e9-af4f-47d8-9d24-8f676f3b1bac",
        "colab": {
          "base_uri": "https://localhost:8080/"
        }
      },
      "source": [
        "test += 10000\n",
        "test"
      ],
      "execution_count": 5,
      "outputs": [
        {
          "output_type": "execute_result",
          "data": {
            "text/plain": [
              "11100"
            ]
          },
          "metadata": {
            "tags": []
          },
          "execution_count": 5
        }
      ]
    }
  ]
}